{
 "cells": [
  {
   "cell_type": "markdown",
   "metadata": {},
   "source": [
    "# Examining Racial Discrimination in the US Job Market\n",
    "\n",
    "### Background\n",
    "Racial discrimination continues to be pervasive in cultures throughout the world. Researchers examined the level of racial discrimination in the United States labor market by randomly assigning identical résumés to black-sounding or white-sounding names and observing the impact on requests for interviews from employers.\n",
    "\n",
    "### Data\n",
    "In the dataset provided, each row represents a resume. The 'race' column has two values, 'b' and 'w', indicating black-sounding and white-sounding. The column 'call' has two values, 1 and 0, indicating whether the resume received a call from employers or not.\n",
    "\n",
    "Note that the 'b' and 'w' values in race are assigned randomly to the resumes when presented to the employer."
   ]
  },
  {
   "cell_type": "markdown",
   "metadata": {},
   "source": [
    "### Exercises\n",
    "You will perform a statistical analysis to establish whether race has a significant impact on the rate of callbacks for resumes.\n",
    "\n",
    "Answer the following questions **in this notebook below and submit to your Github account**. \n",
    "\n",
    "   1. What test is appropriate for this problem? Does CLT apply?\n",
    "   2. What are the null and alternate hypotheses?\n",
    "   3. Compute margin of error, confidence interval, and p-value. Try using both the bootstrapping and the frequentist statistical approaches.\n",
    "   4. Write a story describing the statistical significance in the context or the original problem.\n",
    "   5. Does your analysis mean that race/name is the most important factor in callback success? Why or why not? If not, how would you amend your analysis?\n",
    "\n",
    "You can include written notes in notebook cells using Markdown: \n",
    "   - In the control panel at the top, choose Cell > Cell Type > Markdown\n",
    "   - Markdown syntax: http://nestacms.com/docs/creating-content/markdown-cheat-sheet\n",
    "\n",
    "#### Resources\n",
    "+ Experiment information and data source: http://www.povertyactionlab.org/evaluation/discrimination-job-market-united-states\n",
    "+ Scipy statistical methods: http://docs.scipy.org/doc/scipy/reference/stats.html \n",
    "+ Markdown syntax: http://nestacms.com/docs/creating-content/markdown-cheat-sheet\n",
    "+ Formulas for the Bernoulli distribution: https://en.wikipedia.org/wiki/Bernoulli_distribution"
   ]
  },
  {
   "cell_type": "code",
   "execution_count": 1,
   "metadata": {},
   "outputs": [],
   "source": [
    "# Import necessary modules\n",
    "import pandas as pd\n",
    "import numpy as np\n",
    "from scipy import stats\n",
    "import matplotlib.pyplot as plt"
   ]
  },
  {
   "cell_type": "code",
   "execution_count": 2,
   "metadata": {},
   "outputs": [],
   "source": [
    "# Read in file\n",
    "data = pd.io.stata.read_stata('us_job_market_discrimination.dta')"
   ]
  },
  {
   "cell_type": "code",
   "execution_count": 3,
   "metadata": {},
   "outputs": [
    {
     "data": {
      "text/plain": [
       "235.0"
      ]
     },
     "execution_count": 3,
     "metadata": {},
     "output_type": "execute_result"
    }
   ],
   "source": [
    "# Determine number of callbacks for white-sounding names (For general reference)\n",
    "sum(data[data.race=='w'].call)"
   ]
  },
  {
   "cell_type": "code",
   "execution_count": 4,
   "metadata": {},
   "outputs": [
    {
     "data": {
      "text/html": [
       "<div>\n",
       "<style scoped>\n",
       "    .dataframe tbody tr th:only-of-type {\n",
       "        vertical-align: middle;\n",
       "    }\n",
       "\n",
       "    .dataframe tbody tr th {\n",
       "        vertical-align: top;\n",
       "    }\n",
       "\n",
       "    .dataframe thead th {\n",
       "        text-align: right;\n",
       "    }\n",
       "</style>\n",
       "<table border=\"1\" class=\"dataframe\">\n",
       "  <thead>\n",
       "    <tr style=\"text-align: right;\">\n",
       "      <th></th>\n",
       "      <th>id</th>\n",
       "      <th>ad</th>\n",
       "      <th>education</th>\n",
       "      <th>ofjobs</th>\n",
       "      <th>yearsexp</th>\n",
       "      <th>honors</th>\n",
       "      <th>volunteer</th>\n",
       "      <th>military</th>\n",
       "      <th>empholes</th>\n",
       "      <th>occupspecific</th>\n",
       "      <th>...</th>\n",
       "      <th>compreq</th>\n",
       "      <th>orgreq</th>\n",
       "      <th>manuf</th>\n",
       "      <th>transcom</th>\n",
       "      <th>bankreal</th>\n",
       "      <th>trade</th>\n",
       "      <th>busservice</th>\n",
       "      <th>othservice</th>\n",
       "      <th>missind</th>\n",
       "      <th>ownership</th>\n",
       "    </tr>\n",
       "  </thead>\n",
       "  <tbody>\n",
       "    <tr>\n",
       "      <th>0</th>\n",
       "      <td>b</td>\n",
       "      <td>1</td>\n",
       "      <td>4</td>\n",
       "      <td>2</td>\n",
       "      <td>6</td>\n",
       "      <td>0</td>\n",
       "      <td>0</td>\n",
       "      <td>0</td>\n",
       "      <td>1</td>\n",
       "      <td>17</td>\n",
       "      <td>...</td>\n",
       "      <td>1.0</td>\n",
       "      <td>0.0</td>\n",
       "      <td>1.0</td>\n",
       "      <td>0.0</td>\n",
       "      <td>0.0</td>\n",
       "      <td>0.0</td>\n",
       "      <td>0.0</td>\n",
       "      <td>0.0</td>\n",
       "      <td>0.0</td>\n",
       "      <td></td>\n",
       "    </tr>\n",
       "    <tr>\n",
       "      <th>1</th>\n",
       "      <td>b</td>\n",
       "      <td>1</td>\n",
       "      <td>3</td>\n",
       "      <td>3</td>\n",
       "      <td>6</td>\n",
       "      <td>0</td>\n",
       "      <td>1</td>\n",
       "      <td>1</td>\n",
       "      <td>0</td>\n",
       "      <td>316</td>\n",
       "      <td>...</td>\n",
       "      <td>1.0</td>\n",
       "      <td>0.0</td>\n",
       "      <td>1.0</td>\n",
       "      <td>0.0</td>\n",
       "      <td>0.0</td>\n",
       "      <td>0.0</td>\n",
       "      <td>0.0</td>\n",
       "      <td>0.0</td>\n",
       "      <td>0.0</td>\n",
       "      <td></td>\n",
       "    </tr>\n",
       "    <tr>\n",
       "      <th>2</th>\n",
       "      <td>b</td>\n",
       "      <td>1</td>\n",
       "      <td>4</td>\n",
       "      <td>1</td>\n",
       "      <td>6</td>\n",
       "      <td>0</td>\n",
       "      <td>0</td>\n",
       "      <td>0</td>\n",
       "      <td>0</td>\n",
       "      <td>19</td>\n",
       "      <td>...</td>\n",
       "      <td>1.0</td>\n",
       "      <td>0.0</td>\n",
       "      <td>1.0</td>\n",
       "      <td>0.0</td>\n",
       "      <td>0.0</td>\n",
       "      <td>0.0</td>\n",
       "      <td>0.0</td>\n",
       "      <td>0.0</td>\n",
       "      <td>0.0</td>\n",
       "      <td></td>\n",
       "    </tr>\n",
       "    <tr>\n",
       "      <th>3</th>\n",
       "      <td>b</td>\n",
       "      <td>1</td>\n",
       "      <td>3</td>\n",
       "      <td>4</td>\n",
       "      <td>6</td>\n",
       "      <td>0</td>\n",
       "      <td>1</td>\n",
       "      <td>0</td>\n",
       "      <td>1</td>\n",
       "      <td>313</td>\n",
       "      <td>...</td>\n",
       "      <td>1.0</td>\n",
       "      <td>0.0</td>\n",
       "      <td>1.0</td>\n",
       "      <td>0.0</td>\n",
       "      <td>0.0</td>\n",
       "      <td>0.0</td>\n",
       "      <td>0.0</td>\n",
       "      <td>0.0</td>\n",
       "      <td>0.0</td>\n",
       "      <td></td>\n",
       "    </tr>\n",
       "    <tr>\n",
       "      <th>4</th>\n",
       "      <td>b</td>\n",
       "      <td>1</td>\n",
       "      <td>3</td>\n",
       "      <td>3</td>\n",
       "      <td>22</td>\n",
       "      <td>0</td>\n",
       "      <td>0</td>\n",
       "      <td>0</td>\n",
       "      <td>0</td>\n",
       "      <td>313</td>\n",
       "      <td>...</td>\n",
       "      <td>1.0</td>\n",
       "      <td>1.0</td>\n",
       "      <td>0.0</td>\n",
       "      <td>0.0</td>\n",
       "      <td>0.0</td>\n",
       "      <td>0.0</td>\n",
       "      <td>0.0</td>\n",
       "      <td>1.0</td>\n",
       "      <td>0.0</td>\n",
       "      <td>Nonprofit</td>\n",
       "    </tr>\n",
       "  </tbody>\n",
       "</table>\n",
       "<p>5 rows × 65 columns</p>\n",
       "</div>"
      ],
      "text/plain": [
       "  id ad  education  ofjobs  yearsexp  honors  volunteer  military  empholes  \\\n",
       "0  b  1          4       2         6       0          0         0         1   \n",
       "1  b  1          3       3         6       0          1         1         0   \n",
       "2  b  1          4       1         6       0          0         0         0   \n",
       "3  b  1          3       4         6       0          1         0         1   \n",
       "4  b  1          3       3        22       0          0         0         0   \n",
       "\n",
       "   occupspecific    ...      compreq  orgreq  manuf  transcom  bankreal trade  \\\n",
       "0             17    ...          1.0     0.0    1.0       0.0       0.0   0.0   \n",
       "1            316    ...          1.0     0.0    1.0       0.0       0.0   0.0   \n",
       "2             19    ...          1.0     0.0    1.0       0.0       0.0   0.0   \n",
       "3            313    ...          1.0     0.0    1.0       0.0       0.0   0.0   \n",
       "4            313    ...          1.0     1.0    0.0       0.0       0.0   0.0   \n",
       "\n",
       "  busservice othservice  missind  ownership  \n",
       "0        0.0        0.0      0.0             \n",
       "1        0.0        0.0      0.0             \n",
       "2        0.0        0.0      0.0             \n",
       "3        0.0        0.0      0.0             \n",
       "4        0.0        1.0      0.0  Nonprofit  \n",
       "\n",
       "[5 rows x 65 columns]"
      ]
     },
     "execution_count": 4,
     "metadata": {},
     "output_type": "execute_result"
    }
   ],
   "source": [
    "data.head()"
   ]
  },
  {
   "cell_type": "markdown",
   "metadata": {
    "collapsed": true
   },
   "source": [
    "# Q1:  What test is appropriate for this problem? Does the CLT apply?"
   ]
  },
  {
   "cell_type": "markdown",
   "metadata": {},
   "source": [
    "For this problem, we want to see if each group, the 'b' and 'w' sounding resumes, yeild similar successful (p) returns toward a call. Since we have two groups and want to see if they are treated equally, I am going to use a permutation test. The CLT applies in this situation since we are assuming that each entry of 'b' or 'w' is independently assigned (from the identical resumes) and we would expect an approximate normal distribution of sample mean results from this data."
   ]
  },
  {
   "cell_type": "markdown",
   "metadata": {},
   "source": [
    "# Q2: What are the null and alternate hypotheses?"
   ]
  },
  {
   "cell_type": "markdown",
   "metadata": {},
   "source": [
    "Suppose p represents the probability of successfully getting a call back from a resume, where 1 is a success and 0 is a failure. Both the black and white distributions of this \"call\" should follow a Bernouli distribution, as there is a p rate for success and q or (1-p) rate for failure. The null hypothesis (assuming there is no bias between the two) is that the two data sets have identical values of p. That being said, their difference should equate to 0 in our null hypothesis. The alternative hypothesis is that the difference of these values exceeds 0. These hypotheses are denoted below: \n",
    "<br>\n",
    "<br>\n",
    "<center>$H_{0}$: $p_{w}$ - $p_{b}$ = 0</center>\n",
    "<center>$H_{a}$: $p_{w}$ - $p_{b}$ > 0</center>"
   ]
  },
  {
   "cell_type": "markdown",
   "metadata": {},
   "source": [
    "# Q3: Compute margin of error, confidence interval, and p-value. Try using both the bootstrapping and the frequentist statistical approaches."
   ]
  },
  {
   "cell_type": "code",
   "execution_count": 5,
   "metadata": {},
   "outputs": [],
   "source": [
    "# Define parts of list that are white- or black-sounding: w, b\n",
    "w = data[data.race=='w']\n",
    "b = data[data.race=='b']"
   ]
  },
  {
   "cell_type": "code",
   "execution_count": 6,
   "metadata": {},
   "outputs": [
    {
     "name": "stdout",
     "output_type": "stream",
     "text": [
      "0.09650924024640657\n"
     ]
    }
   ],
   "source": [
    "# Determine sample proportion of successfully returned calls with white-sounding names: w_rate\n",
    "w_returns = w.call.sum()\n",
    "w_attempts = w.call.count()\n",
    "w_rate = w_returns/w_attempts\n",
    "\n",
    "print(w_rate)"
   ]
  },
  {
   "cell_type": "code",
   "execution_count": 7,
   "metadata": {},
   "outputs": [
    {
     "name": "stdout",
     "output_type": "stream",
     "text": [
      "0.06447638603696099\n"
     ]
    }
   ],
   "source": [
    "# Determine sample proportion of returned calls with black-sounding names: b_rate\n",
    "b_returns = b.call.sum()\n",
    "b_attempts = b.call.count()\n",
    "b_rate = b_returns/b_attempts\n",
    "\n",
    "print(b_rate)"
   ]
  },
  {
   "cell_type": "markdown",
   "metadata": {},
   "source": [
    "## Part 1: Bootstrap Approach"
   ]
  },
  {
   "cell_type": "markdown",
   "metadata": {},
   "source": [
    "We will use a bootstrap method to collect data and perform a hypothesis test. This essentially draws small sample sets (with replacement) from within the sample data, and calculates the mean difference of success rates between white- and black-sounding names ($p_{w}$ - $p_{b}$). By plotting these results, we can determine the p% confidence interval of our observed test statistic."
   ]
  },
  {
   "cell_type": "code",
   "execution_count": 8,
   "metadata": {},
   "outputs": [],
   "source": [
    "# Reconstruct column 'race' to be boolean, where w = 1, b = 0\n",
    "def boolean_race(row):\n",
    "    if row['race'] == 'w':\n",
    "        return 1\n",
    "    return 0"
   ]
  },
  {
   "cell_type": "code",
   "execution_count": 9,
   "metadata": {
    "scrolled": true
   },
   "outputs": [],
   "source": [
    "# Apply function to race column, save as a dataframe: bool_race\n",
    "res = data.apply(boolean_race, axis=1)\n",
    "bool_race = res.to_frame('bool_race')"
   ]
  },
  {
   "cell_type": "code",
   "execution_count": 10,
   "metadata": {},
   "outputs": [
    {
     "data": {
      "text/html": [
       "<div>\n",
       "<style scoped>\n",
       "    .dataframe tbody tr th:only-of-type {\n",
       "        vertical-align: middle;\n",
       "    }\n",
       "\n",
       "    .dataframe tbody tr th {\n",
       "        vertical-align: top;\n",
       "    }\n",
       "\n",
       "    .dataframe thead th {\n",
       "        text-align: right;\n",
       "    }\n",
       "</style>\n",
       "<table border=\"1\" class=\"dataframe\">\n",
       "  <thead>\n",
       "    <tr style=\"text-align: right;\">\n",
       "      <th></th>\n",
       "      <th>call</th>\n",
       "      <th>bool_race</th>\n",
       "    </tr>\n",
       "  </thead>\n",
       "  <tbody>\n",
       "    <tr>\n",
       "      <th>0</th>\n",
       "      <td>0.0</td>\n",
       "      <td>1</td>\n",
       "    </tr>\n",
       "    <tr>\n",
       "      <th>1</th>\n",
       "      <td>0.0</td>\n",
       "      <td>1</td>\n",
       "    </tr>\n",
       "    <tr>\n",
       "      <th>2</th>\n",
       "      <td>0.0</td>\n",
       "      <td>0</td>\n",
       "    </tr>\n",
       "    <tr>\n",
       "      <th>3</th>\n",
       "      <td>0.0</td>\n",
       "      <td>0</td>\n",
       "    </tr>\n",
       "    <tr>\n",
       "      <th>4</th>\n",
       "      <td>0.0</td>\n",
       "      <td>1</td>\n",
       "    </tr>\n",
       "  </tbody>\n",
       "</table>\n",
       "</div>"
      ],
      "text/plain": [
       "   call  bool_race\n",
       "0   0.0          1\n",
       "1   0.0          1\n",
       "2   0.0          0\n",
       "3   0.0          0\n",
       "4   0.0          1"
      ]
     },
     "execution_count": 10,
     "metadata": {},
     "output_type": "execute_result"
    }
   ],
   "source": [
    "# Add bool_race column to original dataframe and select pertinent columns: call_race_data\n",
    "new_data = pd.concat([data, bool_race], axis=1)\n",
    "call_race_data = new_data[['call', 'bool_race']]\n",
    "call_race_data.head()"
   ]
  },
  {
   "cell_type": "code",
   "execution_count": 11,
   "metadata": {},
   "outputs": [],
   "source": [
    "# Define data of interest and turn to arrays: call, race\n",
    "call = call_race_data['call'].values\n",
    "race = call_race_data['bool_race'].values"
   ]
  },
  {
   "cell_type": "markdown",
   "metadata": {},
   "source": [
    "Since these columns, 'call' and 'bool_race', are dependent on each other, we have to use a pair-wise bootstrap method. This will sample the data in pairs and compute the slope and intercept from the sampled data. From there, we can compute p-values and confidence intervals for both our slope and intercept values."
   ]
  },
  {
   "cell_type": "code",
   "execution_count": 12,
   "metadata": {},
   "outputs": [],
   "source": [
    "# Define how we draw bootstrap pairs\n",
    "def draw_bs_pairs_linreg(x, y, size=1):\n",
    "    \"\"\"Perform pairs bootstrap for linear regression.\"\"\"\n",
    "    # Set up array of indices to sample from: inds\n",
    "    inds = np.arange(len(x))\n",
    "    \n",
    "    # Initialize replicates: bs_slope_reps, bs_intercept_reps\n",
    "    bs_slope_reps = np.empty(size)\n",
    "    bs_intercept_reps = np.empty(size)\n",
    "    \n",
    "    # Generate replicates\n",
    "    for i in range(size):\n",
    "        bs_inds = np.random.choice(inds, size=len(inds))\n",
    "        bs_x, bs_y = x[bs_inds], y[bs_inds]\n",
    "        bs_slope_reps[i], bs_intercept_reps[i] = np.polyfit(bs_x, bs_y, 1)\n",
    "\n",
    "    return bs_slope_reps, bs_intercept_reps"
   ]
  },
  {
   "cell_type": "code",
   "execution_count": 13,
   "metadata": {},
   "outputs": [],
   "source": [
    "# Draw sample of 1000 pairs\n",
    "pair_slope, pair_intercept = draw_bs_pairs_linreg(call, race, size=1000)"
   ]
  },
  {
   "cell_type": "markdown",
   "metadata": {},
   "source": [
    "Plot the first 200 bootstrap pairs and visualize the linear relationships"
   ]
  },
  {
   "cell_type": "code",
   "execution_count": 14,
   "metadata": {
    "scrolled": true
   },
   "outputs": [
    {
     "data": {
      "image/png": "[encoded data removed]",
      "text/plain": [
       "<Figure size 432x288 with 1 Axes>"
      ]
     },
     "metadata": {
      "needs_background": "light"
     },
     "output_type": "display_data"
    }
   ],
   "source": [
    "# Generate array of x-values for bootstrap lines: x\n",
    "x = np.array([0, 200])\n",
    "\n",
    "# Plot the bootstrap lines\n",
    "for i in range(200):\n",
    "    plt.plot(x, pair_slope[i]*x + pair_intercept[i],\n",
    "                 linewidth=0.5, alpha=0.05, color='red')\n",
    "\n",
    "# Label axes, set the margins, and show plot of bootstrap pairs\n",
    "plt.xlabel('call')\n",
    "plt.ylabel('race where w=1')\n",
    "plt.xlim([0,1])\n",
    "plt.ylim([0,1])\n",
    "plt.margins(0.02)\n",
    "\n",
    "# Insert \"non-biased\" line where success rate is constant 0.5\n",
    "plt.axhline(y=0.5, color='black', linewidth=0.5)\n",
    "\n",
    "plt.show()"
   ]
  },
  {
   "cell_type": "markdown",
   "metadata": {},
   "source": [
    "In our null hypothesis where there is no bias, we assert that both success rates are identicalfor each race. Visually, this is represented in the black \"non-biased\" line above, a horizantal line at 0.5. It is clear that of our first 200 results, the trend seems not to match this horizantal line.\n",
    "<br>\n",
    "<br>\n",
    "The pairs_slope data itself represent the difference between $p_{w}$ and $p_{b}$, in which a positive slope value reflects bias toward $p_{w}$ and a negative value reflects bias toward $p_{b}$. Now, we will compute the p-value and confidence interval of the slopes from our bootstrap pairs to assess if the call response is bias and see how closely this aligns.\n",
    "<br>\n",
    "<br>\n",
    "The p-value is the fraction of the simulated data sets for which the test statistic is at least as extreme as for the true data, denoted below:\n",
    "<br>\n",
    "<br>\n",
    "<center><i>p = ($\\sum$ pair_slope <= 0) - 0 / # observations</i></center> "
   ]
  },
  {
   "cell_type": "code",
   "execution_count": 15,
   "metadata": {},
   "outputs": [
    {
     "name": "stdout",
     "output_type": "stream",
     "text": [
      "p-value =  0.0\n"
     ]
    }
   ],
   "source": [
    "# Compute p-value for slope values: p\n",
    "p = (np.sum(pair_slope <= 0)-0)/len(pair_slope)\n",
    "print('p-value = ', p)"
   ]
  },
  {
   "cell_type": "code",
   "execution_count": 16,
   "metadata": {},
   "outputs": [
    {
     "name": "stdout",
     "output_type": "stream",
     "text": [
      "CI ranges  [0.04609863 0.18081716]\n"
     ]
    }
   ],
   "source": [
    "# Compute 99% confidence interval for slope values: CI\n",
    "CI = np.percentile(pair_slope, [0.5, 99.5])\n",
    "print('CI ranges ', CI)"
   ]
  },
  {
   "cell_type": "markdown",
   "metadata": {},
   "source": [
    "In summary, there is a 99% chance that we captured the true data slope value within the confidence interval range from 0.041 to 0.185. Since this range does not include our null hypothesis value of 0, our p-value is also 0. This means that from our data set, we can successfully reject the null hypothesis that the true rate of successes in resume callbacks is non-biased. From our compelling results, our data suggests that there is a bias here, preferring the white-sounding resume names over the black-sounding ones."
   ]
  },
  {
   "cell_type": "markdown",
   "metadata": {},
   "source": [
    "## Part 2: Frequentist Approach"
   ]
  },
  {
   "cell_type": "markdown",
   "metadata": {},
   "source": [
    "For this approach, we will perform a permutation hypothesis test. To do this, we will take 1,000 permutation samples. Each sample will include the following procedure. \n",
    "<br>\n",
    "<br>\n",
    "Take the original data and permute (shuffle) the entries in the 'call' column. Then, assign the first half to be \"white-sounding\" and the second to be \"black-sounding.\" We will then split the data into permuted samples: perm_w and perm_b. Plot each difference of means of those two values 1,000 times in a histogram. Finally, we will see how extreme our observed sample data value is in relation to this distribution of permutation tests."
   ]
  },
  {
   "cell_type": "code",
   "execution_count": 17,
   "metadata": {},
   "outputs": [],
   "source": [
    "# Write a script that calculates permuted data mean differences\n",
    "\n",
    "# Initialize empty array of replicates\n",
    "perm_reps = np.empty(1000)\n",
    "\n",
    "# Establish random seed for reproducability\n",
    "np.random.seed(42)\n",
    "\n",
    "# Draw replicates\n",
    "for i in range(1000):\n",
    "    # Permute call_data\n",
    "    if i <= 1:\n",
    "        permuted_data = np.random.permutation(call)\n",
    "        perm_reps[i] = np.mean(permuted_data[:len(w)]) - np.mean(permuted_data[len(w):])\n",
    "    # Take permutations of most recently permuted data\n",
    "    else:\n",
    "        permuted_data = np.random.permutation(permuted_data)\n",
    "        perm_reps[i] = np.mean(permuted_data[:len(w)]) - np.mean(permuted_data[len(w):])"
   ]
  },
  {
   "cell_type": "code",
   "execution_count": 18,
   "metadata": {
    "scrolled": true
   },
   "outputs": [
    {
     "data": {
      "text/plain": [
       "(array([ 0.88224637,  0.        ,  0.        ,  0.88224637,  0.        ,\n",
       "         0.        ,  1.76449274,  2.6467391 ,  5.29347821,  2.6467391 ,\n",
       "         5.29347821,  7.94021731,  2.6467391 , 14.11594189,  5.29347821,\n",
       "        24.7028983 , 14.11594189, 10.58695642, 43.23007203, 35.28985472,\n",
       "        27.34963741, 70.57970944, 34.40760835, 77.63768038, 56.46376755,\n",
       "        42.34782566, 74.10869491, 38.81884019, 44.1123184 , 29.99637651,\n",
       "        22.93840557, 46.7590575 , 18.52717373, 17.64492736, 36.17210109,\n",
       "        15.88043462, 13.23369552,  6.17572458,  6.17572458,  9.70471005,\n",
       "         6.17572458,  2.6467391 ,  1.76449274,  0.        ,  0.88224637,\n",
       "         1.76449274,  0.88224637,  0.88224637,  0.        ,  0.88224637]),\n",
       " array([-0.02874743, -0.02761396, -0.02648049, -0.02534702, -0.02421355,\n",
       "        -0.02308008, -0.02194661, -0.02081314, -0.01967967, -0.0185462 ,\n",
       "        -0.01741273, -0.01627926, -0.01514579, -0.01401232, -0.01287885,\n",
       "        -0.01174538, -0.01061191, -0.00947844, -0.00834497, -0.0072115 ,\n",
       "        -0.00607803, -0.00494456, -0.00381109, -0.00267762, -0.00154415,\n",
       "        -0.00041068,  0.00072279,  0.00185626,  0.00298973,  0.0041232 ,\n",
       "         0.00525668,  0.00639015,  0.00752362,  0.00865709,  0.00979056,\n",
       "         0.01092403,  0.0120575 ,  0.01319097,  0.01432444,  0.01545791,\n",
       "         0.01659138,  0.01772485,  0.01885832,  0.01999179,  0.02112526,\n",
       "         0.02225873,  0.0233922 ,  0.02452567,  0.02565914,  0.02679261,\n",
       "         0.02792608]),\n",
       " <a list of 50 Patch objects>)"
      ]
     },
     "execution_count": 18,
     "metadata": {},
     "output_type": "execute_result"
    },
    {
     "data": {
      "image/png": "[encoded data removed]",
      "text/plain": [
       "<Figure size 432x288 with 1 Axes>"
      ]
     },
     "metadata": {
      "needs_background": "light"
     },
     "output_type": "display_data"
    }
   ],
   "source": [
    "# Plot histogram of array\n",
    "plt.hist(perm_reps, bins=50, density=True)"
   ]
  },
  {
   "cell_type": "code",
   "execution_count": 19,
   "metadata": {},
   "outputs": [
    {
     "name": "stdout",
     "output_type": "stream",
     "text": [
      "0.032032854209445585\n"
     ]
    }
   ],
   "source": [
    "# Calculate observed sample mean difference\n",
    "obs_samp_dif = w_rate - b_rate\n",
    "print(obs_samp_dif)"
   ]
  },
  {
   "cell_type": "code",
   "execution_count": 20,
   "metadata": {},
   "outputs": [
    {
     "name": "stdout",
     "output_type": "stream",
     "text": [
      "4.140776071270656  standard deviations from the mean\n"
     ]
    }
   ],
   "source": [
    "# Calculate how many standard deviations our observed value is from the mean\n",
    "perm_std = np.std(perm_reps)\n",
    "stds = obs_samp_dif/perm_std\n",
    "\n",
    "print(stds, ' standard deviations from the mean')"
   ]
  },
  {
   "cell_type": "code",
   "execution_count": 21,
   "metadata": {},
   "outputs": [
    {
     "name": "stdout",
     "output_type": "stream",
     "text": [
      "p-value =  3.2073100725911725e-05\n"
     ]
    }
   ],
   "source": [
    "# Calculate p-value of obs_samp_dif\n",
    "p = (obs_samp_dif - np.mean(perm_reps))/len(perm_reps)\n",
    "print('p-value = ', p)"
   ]
  },
  {
   "cell_type": "markdown",
   "metadata": {},
   "source": [
    "In conclusion, our observed difference of the mean rates of returned applications between white-sounding and black-sounding resumes was 0.03203. As we drew permutation samples and plotted the histogram of mean differences, we see that this observed value is far from the mean; in fact, this is over 4 standard deviations below what we would expect. This gives us a p-value of 3.207e-05, which is extremely low, guiding us to assess that our observed data does not actually follow a non-biased rate or return of resumes, rejecting our assumed original hypothesis."
   ]
  },
  {
   "cell_type": "markdown",
   "metadata": {},
   "source": [
    "## Q4/Q5: Write a story describing the statistical significance in the context or the original problem.  Does your analysis mean that race/name is the most important factor in callback success? Why or why not? If not, how would you amend your analysis?"
   ]
  },
  {
   "cell_type": "code",
   "execution_count": null,
   "metadata": {},
   "outputs": [],
   "source": []
  }
 ],
 "metadata": {
  "kernelspec": {
   "display_name": "Python 3",
   "language": "python",
   "name": "python3"
  },
  "language_info": {
   "codemirror_mode": {
    "name": "ipython",
    "version": 3
   },
   "file_extension": ".py",
   "mimetype": "text/x-python",
   "name": "python",
   "nbconvert_exporter": "python",
   "pygments_lexer": "ipython3",
   "version": "3.7.1"
  }
 },
 "nbformat": 4,
 "nbformat_minor": 1
}
