{
 "cells": [
  {
   "cell_type": "markdown",
   "metadata": {},
   "source": [
    "# What is the True Normal Human Body Temperature? \n",
    "\n",
    "#### Background\n",
    "\n",
    "The mean normal body temperature was held to be 37$^{\\circ}$C or 98.6$^{\\circ}$F for more than 120 years since it was first conceptualized and reported by Carl Wunderlich in a famous 1868 book. But, is this value statistically correct?"
   ]
  },
  {
   "cell_type": "markdown",
   "metadata": {},
   "source": [
    "<h3>Exercises</h3>\n",
    "\n",
    "<p>In this exercise, you will analyze a dataset of human body temperatures and employ the concepts of hypothesis testing, confidence intervals, and statistical significance.</p>\n",
    "\n",
    "<p>Answer the following questions <b>in this notebook below and submit to your Github account</b>.</p> \n",
    "\n",
    "<ol>\n",
    "<li>  Is the distribution of body temperatures normal? \n",
    "    <ul>\n",
    "    <li> Although this is not a requirement for the Central Limit Theorem to hold (read the introduction on Wikipedia's page about the CLT carefully: https://en.wikipedia.org/wiki/Central_limit_theorem), it gives us some peace of mind that the population may also be normally distributed if we assume that this sample is representative of the population.\n",
    "    <li> Think about the way you're going to check for the normality of the distribution. Graphical methods are usually used first, but there are also other ways: https://en.wikipedia.org/wiki/Normality_test\n",
    "    </ul>\n",
    "<li>  Is the sample size large? Are the observations independent?\n",
    "    <ul>\n",
    "    <li> Remember that this is a condition for the Central Limit Theorem, and hence the statistical tests we are using, to apply.\n",
    "    </ul>\n",
    "<li>  Is the true population mean really 98.6 degrees F?\n",
    "    <ul>\n",
    "    <li> First, try a bootstrap hypothesis test.\n",
    "    <li> Now, let's try frequentist statistical testing. Would you use a one-sample or two-sample test? Why?\n",
    "    <li> In this situation, is it appropriate to use the $t$ or $z$ statistic? \n",
    "    </ul>\n",
    "<li>  Draw a small sample of size 10 from the data and repeat both frequentist tests. \n",
    "    <ul>\n",
    "    <li> Which one is the correct one to use? \n",
    "    <li> What do you notice? What does this tell you about the difference in application of the $t$ and $z$ statistic?\n",
    "    </ul>\n",
    "<li>  At what temperature should we consider someone's temperature to be \"abnormal\"?\n",
    "    <ul>\n",
    "    <li> Start by computing the margin of error and confidence interval. When calculating the confidence interval, keep in mind that you should use the appropriate formula for one draw, and not N draws.\n",
    "    </ul>\n",
    "</ol>\n",
    "\n",
    "You can include written notes in notebook cells using Markdown: \n",
    "   - In the control panel at the top, choose Cell > Cell Type > Markdown\n",
    "   - Markdown syntax: http://nestacms.com/docs/creating-content/markdown-cheat-sheet\n",
    "\n",
    "#### Resources\n",
    "\n",
    "+ Information and data sources: http://www.amstat.org/publications/jse/datasets/normtemp.txt, http://www.amstat.org/publications/jse/jse_data_archive.htm\n",
    "+ Markdown syntax: http://nestacms.com/docs/creating-content/markdown-cheat-sheet\n",
    "\n",
    "****"
   ]
  },
  {
   "cell_type": "code",
   "execution_count": 1,
   "metadata": {},
   "outputs": [],
   "source": [
    "# Import necessary modules\n",
    "import pandas as pd\n",
    "import matplotlib.pyplot as plt\n",
    "import seaborn as sns\n",
    "import numpy as np\n",
    "from scipy.stats import norm\n",
    "import scipy.stats\n",
    "import math"
   ]
  },
  {
   "cell_type": "code",
   "execution_count": 2,
   "metadata": {},
   "outputs": [],
   "source": [
    "# Read in .csv file\n",
    "df = pd.read_csv('human_body_temperature.csv')"
   ]
  },
  {
   "cell_type": "markdown",
   "metadata": {
    "collapsed": true
   },
   "source": [
    "# Q1: Is the distribution of body temperatures normal?"
   ]
  },
  {
   "cell_type": "markdown",
   "metadata": {},
   "source": [
    "This question is important because it is a condition to satisfy the CLT, and the tests we will use. Let's get to know our data a little better, and determined whether we can assume our underlying data is normal by two methods."
   ]
  },
  {
   "cell_type": "markdown",
   "metadata": {},
   "source": [
    "## Method #1"
   ]
  },
  {
   "cell_type": "code",
   "execution_count": 3,
   "metadata": {},
   "outputs": [
    {
     "data": {
      "text/html": [
       "<div>\n",
       "<style scoped>\n",
       "    .dataframe tbody tr th:only-of-type {\n",
       "        vertical-align: middle;\n",
       "    }\n",
       "\n",
       "    .dataframe tbody tr th {\n",
       "        vertical-align: top;\n",
       "    }\n",
       "\n",
       "    .dataframe thead th {\n",
       "        text-align: right;\n",
       "    }\n",
       "</style>\n",
       "<table border=\"1\" class=\"dataframe\">\n",
       "  <thead>\n",
       "    <tr style=\"text-align: right;\">\n",
       "      <th></th>\n",
       "      <th>temperature</th>\n",
       "      <th>gender</th>\n",
       "      <th>heart_rate</th>\n",
       "    </tr>\n",
       "  </thead>\n",
       "  <tbody>\n",
       "    <tr>\n",
       "      <th>0</th>\n",
       "      <td>99.3</td>\n",
       "      <td>F</td>\n",
       "      <td>68.0</td>\n",
       "    </tr>\n",
       "    <tr>\n",
       "      <th>1</th>\n",
       "      <td>98.4</td>\n",
       "      <td>F</td>\n",
       "      <td>81.0</td>\n",
       "    </tr>\n",
       "    <tr>\n",
       "      <th>2</th>\n",
       "      <td>97.8</td>\n",
       "      <td>M</td>\n",
       "      <td>73.0</td>\n",
       "    </tr>\n",
       "    <tr>\n",
       "      <th>3</th>\n",
       "      <td>99.2</td>\n",
       "      <td>F</td>\n",
       "      <td>66.0</td>\n",
       "    </tr>\n",
       "    <tr>\n",
       "      <th>4</th>\n",
       "      <td>98.0</td>\n",
       "      <td>F</td>\n",
       "      <td>73.0</td>\n",
       "    </tr>\n",
       "  </tbody>\n",
       "</table>\n",
       "</div>"
      ],
      "text/plain": [
       "   temperature gender  heart_rate\n",
       "0         99.3      F        68.0\n",
       "1         98.4      F        81.0\n",
       "2         97.8      M        73.0\n",
       "3         99.2      F        66.0\n",
       "4         98.0      F        73.0"
      ]
     },
     "execution_count": 3,
     "metadata": {},
     "output_type": "execute_result"
    }
   ],
   "source": [
    "df.head()"
   ]
  },
  {
   "cell_type": "code",
   "execution_count": 4,
   "metadata": {},
   "outputs": [
    {
     "data": {
      "text/plain": [
       "temperature    float64\n",
       "gender          object\n",
       "heart_rate     float64\n",
       "dtype: object"
      ]
     },
     "execution_count": 4,
     "metadata": {},
     "output_type": "execute_result"
    }
   ],
   "source": [
    "df.dtypes"
   ]
  },
  {
   "cell_type": "code",
   "execution_count": 5,
   "metadata": {},
   "outputs": [
    {
     "data": {
      "text/plain": [
       "count    130.000000\n",
       "mean      98.249231\n",
       "std        0.733183\n",
       "min       96.300000\n",
       "25%       97.800000\n",
       "50%       98.300000\n",
       "75%       98.700000\n",
       "max      100.800000\n",
       "Name: temperature, dtype: float64"
      ]
     },
     "execution_count": 5,
     "metadata": {},
     "output_type": "execute_result"
    }
   ],
   "source": [
    "df.temperature.describe()"
   ]
  },
  {
   "cell_type": "markdown",
   "metadata": {},
   "source": [
    "Let's create a histogram to see the approximate distribution, and then test its fitness."
   ]
  },
  {
   "cell_type": "code",
   "execution_count": 6,
   "metadata": {},
   "outputs": [
    {
     "data": {
      "image/png": "[encoded data removed]",
      "text/plain": [
       "<Figure size 432x288 with 1 Axes>"
      ]
     },
     "metadata": {
      "needs_background": "light"
     },
     "output_type": "display_data"
    }
   ],
   "source": [
    "# Histogram of temperatures\n",
    "plt.hist(df.temperature, bins=40)\n",
    "plt.show()"
   ]
  },
  {
   "cell_type": "code",
   "execution_count": 7,
   "metadata": {},
   "outputs": [
    {
     "name": "stdout",
     "output_type": "stream",
     "text": [
      "mu is  98.24923076923076\n",
      "std is  0.7331831580389453\n"
     ]
    }
   ],
   "source": [
    "# Sort data and Find observed mu and std of data\n",
    "obs = df.temperature.sort_values()\n",
    "mu, std = obs.mean(), obs.std()\n",
    "print('mu is ', mu)\n",
    "print('std is ', std)"
   ]
  },
  {
   "cell_type": "code",
   "execution_count": 8,
   "metadata": {},
   "outputs": [],
   "source": [
    "# Create associated normal distribution with mu and std: p\n",
    "distr = norm.pdf(obs, mu, std)"
   ]
  },
  {
   "cell_type": "code",
   "execution_count": 9,
   "metadata": {},
   "outputs": [
    {
     "data": {
      "image/png": "[encoded data removed]",
      "text/plain": [
       "<Figure size 432x288 with 1 Axes>"
      ]
     },
     "metadata": {
      "needs_background": "light"
     },
     "output_type": "display_data"
    }
   ],
   "source": [
    "plt.hist(obs, bins=40, density=True, stacked=True)\n",
    "plt.plot(obs, distr)\n",
    "plt.xlabel('Temperature')\n",
    "plt.title('Distribution of Temperature')\n",
    "# xticks\n",
    "xticks = plt.xticks(np.arange(95.5,101.5,0.5),rotation=90)"
   ]
  },
  {
   "cell_type": "markdown",
   "metadata": {},
   "source": [
    "Let's test the fitness of this normed line to see if our data is sufficiently normal (using normaltest)."
   ]
  },
  {
   "cell_type": "code",
   "execution_count": 10,
   "metadata": {},
   "outputs": [],
   "source": [
    "k2, p = scipy.stats.normaltest(obs)"
   ]
  },
  {
   "cell_type": "code",
   "execution_count": 11,
   "metadata": {},
   "outputs": [
    {
     "name": "stdout",
     "output_type": "stream",
     "text": [
      "Follows Normal distribution with p-value of  0.2587\n"
     ]
    }
   ],
   "source": [
    "if p < 0.05:\n",
    "    print('Does not follow Normal distribution')\n",
    "else:\n",
    "    print('Follows Normal distribution with p-value of ', '{:1.6}'.format(str(p)))"
   ]
  },
  {
   "cell_type": "markdown",
   "metadata": {},
   "source": [
    "Based on this p-value, we can assume our underlying data follows an approximate Normal distribution."
   ]
  },
  {
   "cell_type": "markdown",
   "metadata": {},
   "source": [
    "## Method #2"
   ]
  },
  {
   "cell_type": "markdown",
   "metadata": {},
   "source": [
    "In this method, we will display the theoretical CDF of the normal distribution and compare it with an ECDF of our data by passing the mu and std values from the data."
   ]
  },
  {
   "cell_type": "code",
   "execution_count": 12,
   "metadata": {},
   "outputs": [],
   "source": [
    "# Define a function that computes the ECDF on a 1D array: ecdf()\n",
    "def ecdf(data):\n",
    "    \"\"\"Compute ECDF for a one-dimensional array of measurements.\"\"\"\n",
    "    # Number of data points: n\n",
    "    n = len(data)\n",
    "    \n",
    "    # x-data for the ECDF: x\n",
    "    x = np.sort(data)\n",
    "    \n",
    "    # y-data for the ECDF, evenly going from 1/n to n: y\n",
    "    y = np.arange(1, n+1)/n\n",
    "    \n",
    "    return x, y"
   ]
  },
  {
   "cell_type": "code",
   "execution_count": 13,
   "metadata": {},
   "outputs": [
    {
     "data": {
      "image/png": "[encoded data removed]",
      "text/plain": [
       "<Figure size 432x288 with 1 Axes>"
      ]
     },
     "metadata": {
      "needs_background": "light"
     },
     "output_type": "display_data"
    }
   ],
   "source": [
    "# Create theoretical normal distribution, using previous parameters and a sample size of 1,000. This is what our data should look like if it was truly normal.\n",
    "np.random.seed(42)\n",
    "\n",
    "normal = np.random.normal(mu, std, 1000)\n",
    "plt.hist(x=normal, density=True, bins=50)\n",
    "plt.show()"
   ]
  },
  {
   "cell_type": "code",
   "execution_count": 14,
   "metadata": {},
   "outputs": [],
   "source": [
    "# Generate the theoretical ECDF using our parameters from normal\n",
    "x_theor, y_theor = ecdf(normal)"
   ]
  },
  {
   "cell_type": "code",
   "execution_count": 15,
   "metadata": {},
   "outputs": [
    {
     "data": {
      "image/png": "[encoded data removed]",
      "text/plain": [
       "<Figure size 432x288 with 1 Axes>"
      ]
     },
     "metadata": {
      "needs_background": "light"
     },
     "output_type": "display_data"
    }
   ],
   "source": [
    "# Take our real data and create an ECDF with it, overlaying it with the theoretical ECDF\n",
    "x, y = ecdf(obs)\n",
    "\n",
    "# Overlay our data with the theoretical data ecdf plots\n",
    "plt.plot(x, y, marker=\".\", linestyle='none', color='red', alpha=0.35)\n",
    "plt.plot(x_theor, y_theor, color='blue')\n",
    "plt.xlabel('Temperature (F)')\n",
    "plt.ylabel('CDF')\n",
    "plt.show()"
   ]
  },
  {
   "cell_type": "markdown",
   "metadata": {},
   "source": [
    "Conclusion: The data sufficiently fits the normality test from Method #1 and from Method #2 follows a similar ECDF to that of the normal. For that, we can assume for now that this data is relatively normal and is representative of other samples, in which we can proceed with our testing."
   ]
  },
  {
   "cell_type": "markdown",
   "metadata": {},
   "source": [
    "# Q2: Is the sample size large? Are the observations independent?"
   ]
  },
  {
   "cell_type": "markdown",
   "metadata": {},
   "source": [
    "In order to proceed using the CLT and the tests following that, these two assumptions must be true. Our sample size is 130 observations, which can be assumed is sufficiently large enough. Additionally, the observations should be independent as long as long as the following is true: they are not measured within the same individual, they measured in similar climates (not while it's 120 degrees out, or is the person is ill), and there is no tracable relationship between individuals and their temperatures - for instance if a mother and son have a medical condition where their temperatures are both abnormally high.\n",
    "\n",
    "Unfortunately, there is no explanation as to how this data was collected, so all we can go off of is the data itself. In dataframes, we can assume that each row is an independent observation and record of an individual, in which case, these observations would have been collected independently."
   ]
  },
  {
   "cell_type": "markdown",
   "metadata": {},
   "source": [
    "# Q3: Is the true population mean really 98.6 degrees F?"
   ]
  },
  {
   "cell_type": "markdown",
   "metadata": {},
   "source": [
    "## Approach 1:  Bootstrap Hypothesis Method"
   ]
  },
  {
   "cell_type": "markdown",
   "metadata": {},
   "source": [
    "The bootstrap method is to randomly select an observation, store it in an array, and resample with replacement for a determined amount of times. This creates a bootstrap sample. A bootstrap replicate then is a statistic from a bootstrap array. If we create a determined amount of replicates, we can view the distribution of those statistic values and come up with confidence intervals and p-values to test our hypotheses.\n",
    "\n",
    "Here, we do a bootstrap method because we are comparing our dataset with a value. Our Null hypothesis is that the true mean human body temperature is exactly 98.6 degrees F. We will assume this is true and test to see if our sample data is likely to fit within that assumption."
   ]
  },
  {
   "cell_type": "code",
   "execution_count": 16,
   "metadata": {},
   "outputs": [],
   "source": [
    "# Theoretical mean is 98.6 degrees\n",
    "theor_mean = 98.6"
   ]
  },
  {
   "cell_type": "code",
   "execution_count": 17,
   "metadata": {},
   "outputs": [],
   "source": [
    "# Shift our data so that the means are the same - this does not affect the variance\n",
    "sample_shifted = df.temperature - np.mean(df.temperature) + theor_mean"
   ]
  },
  {
   "cell_type": "code",
   "execution_count": 18,
   "metadata": {},
   "outputs": [
    {
     "data": {
      "text/plain": [
       "-0.35076923076921673"
      ]
     },
     "execution_count": 18,
     "metadata": {},
     "output_type": "execute_result"
    }
   ],
   "source": [
    "# Determine the difference in the sample observation and write it in a function for later use\n",
    "def diff_from_theor_mean(data, theor_mean=98.6):\n",
    "    return np.mean(data) - theor_mean\n",
    "\n",
    "diff_obs = diff_from_theor_mean(df.temperature)\n",
    "diff_obs"
   ]
  },
  {
   "cell_type": "code",
   "execution_count": 19,
   "metadata": {},
   "outputs": [],
   "source": [
    "# Now we will generate samples and replicates, performed on the shifted data since that is what's in the hypothesis test\n",
    "# Generate bootstrap sample: bs_sample\n",
    "np.random.seed(42)\n",
    "bs_sample = np.random.choice(sample_shifted, size=len(sample_shifted))"
   ]
  },
  {
   "cell_type": "code",
   "execution_count": 20,
   "metadata": {},
   "outputs": [],
   "source": [
    "# Loop to apply a function to each sample, and collect those values into replicates.\n",
    "def draw_bs_reps(data, func, size=1):\n",
    "    \"\"\"Draw bootstrap replicates\"\"\"\n",
    "    \n",
    "    # Initialize array of replicates\n",
    "    bs_replicates = np.empty(size)\n",
    "    \n",
    "    # Generate replications, where each replicate follows the same form as above in bs_sample\n",
    "    for i in range(size):\n",
    "        bs_replicates[i] = func(np.random.choice(data, len(data)))\n",
    "        \n",
    "    return bs_replicates"
   ]
  },
  {
   "cell_type": "code",
   "execution_count": 21,
   "metadata": {},
   "outputs": [],
   "source": [
    "# Use this function to draw 10,000 samples and calculte the diff from the theoretical mean of each sample\n",
    "bs_replicates = draw_bs_reps(sample_shifted, diff_from_theor_mean, size=10000)"
   ]
  },
  {
   "cell_type": "code",
   "execution_count": 22,
   "metadata": {},
   "outputs": [
    {
     "data": {
      "image/png": "[encoded data removed]",
      "text/plain": [
       "<Figure size 432x288 with 1 Axes>"
      ]
     },
     "metadata": {
      "needs_background": "light"
     },
     "output_type": "display_data"
    }
   ],
   "source": [
    "# See how these replicates are distributed\n",
    "plt.hist(bs_replicates, bins=50, density=True)\n",
    "plt.xlabel('mean body temp (F)')\n",
    "plt.show()"
   ]
  },
  {
   "cell_type": "code",
   "execution_count": 23,
   "metadata": {},
   "outputs": [
    {
     "data": {
      "text/plain": [
       "array([ 0.06538462,  0.04384615,  0.09923077, ..., -0.08538462,\n",
       "        0.00846154,  0.12769231])"
      ]
     },
     "execution_count": 23,
     "metadata": {},
     "output_type": "execute_result"
    }
   ],
   "source": [
    "bs_replicates"
   ]
  },
  {
   "cell_type": "code",
   "execution_count": 24,
   "metadata": {},
   "outputs": [
    {
     "data": {
      "text/plain": [
       "0.0"
      ]
     },
     "execution_count": 24,
     "metadata": {},
     "output_type": "execute_result"
    }
   ],
   "source": [
    "# Let's determine a p-value from this test\n",
    "p = np.sum(bs_replicates <= diff_obs) / 10000\n",
    "p"
   ]
  },
  {
   "cell_type": "markdown",
   "metadata": {},
   "source": [
    "Conclusion: Since the p-value is so extremely low, that means there is a minimal fraction of observations less extreme than the test statistic. This means that it is possible that our observed data was significantly far from the assumed body temperature mean of 98.6 degrees. In other words, we must reject the null hypothesis that the sample data follows a true mean of 98.6 degrees F."
   ]
  },
  {
   "cell_type": "markdown",
   "metadata": {},
   "source": [
    "## Approach 2: Frequentist Statistical Sampling"
   ]
  },
  {
   "cell_type": "markdown",
   "metadata": {},
   "source": [
    "In this case, we would use a one-sample test to determine how this sample of temperatures compares to the true population mean of 98.6 degrees F. Additionally, because our sample size is large enough, we will conduct this test using a z-statistic.\n",
    "<br>\n",
    "<br>\n",
    "Our null hypothesis is the the true population mean ($\\mu$) equals our assumed temperature of 98.6. Alternatively, the tested hypothesis is that the true population mean ($\\mu$) is not 98.6. We will test with a p-value leve of 0.05. These hypotheses are denoted below:\n",
    "<br>\n",
    "<br>\n",
    "    $H_{0}$: $\\mu$ = 98.6\n",
    "<br>\n",
    "    $H_{a}$: $\\mu$ $\\neq$ 98.6"
   ]
  },
  {
   "cell_type": "markdown",
   "metadata": {},
   "source": [
    "## <i>* z-statistic method</i>"
   ]
  },
  {
   "cell_type": "code",
   "execution_count": 25,
   "metadata": {},
   "outputs": [
    {
     "name": "stdout",
     "output_type": "stream",
     "text": [
      "z-value =  -5.454823292364079\n"
     ]
    }
   ],
   "source": [
    "# Calculate z-value // z = (mean - mu) / (std / sqrt(n))\n",
    "z = (df.temperature.mean() - 98.6) / (df.temperature.std() / (df.temperature.size**0.5))\n",
    "print('z-value = ', z)"
   ]
  },
  {
   "cell_type": "code",
   "execution_count": 26,
   "metadata": {},
   "outputs": [
    {
     "name": "stdout",
     "output_type": "stream",
     "text": [
      "p-value is  4.90215701411338e-08\n",
      "We reject the null hypothesis that the true population mean is 98.6 F.\n"
     ]
    }
   ],
   "source": [
    "# Calculate the p-value of this z-score, a two-sided test\n",
    "import scipy.stats as stats\n",
    "p_val_z = stats.norm.cdf(z) * 2\n",
    "print('p-value is ', p_val_z)\n",
    "\n",
    "if p_val_z < 0.05:\n",
    "    print('We reject the null hypothesis that the true population mean is 98.6 F.')\n",
    "else:\n",
    "    print('We fail to reject the null hypothesis that the true population mean is 98.6 F.')\n"
   ]
  },
  {
   "cell_type": "markdown",
   "metadata": {},
   "source": [
    "## <i>* t-statistic method</i>"
   ]
  },
  {
   "cell_type": "code",
   "execution_count": 27,
   "metadata": {},
   "outputs": [
    {
     "name": "stdout",
     "output_type": "stream",
     "text": [
      "t-value =  -5.454823292364079\n"
     ]
    }
   ],
   "source": [
    "# Calculate t-value // t = (mean - mu) / (sample std / sqrt(n))\n",
    "t = (df.temperature.mean() - 98.6) / (df.temperature.std() / (df.temperature.size**0.5))\n",
    "print('t-value = ', t)"
   ]
  },
  {
   "cell_type": "code",
   "execution_count": 28,
   "metadata": {},
   "outputs": [
    {
     "name": "stdout",
     "output_type": "stream",
     "text": [
      "1.978524491458605\n"
     ]
    }
   ],
   "source": [
    "# Critical t-score\n",
    "# Define parameters\n",
    "p = 0.95\n",
    "dof = (df.shape[0]) - 1\n",
    "\n",
    "# Find value, 2-tail\n",
    "critical_t = stats.t.ppf((p + (1-p)/2), dof)\n",
    "print(critical_t)"
   ]
  },
  {
   "cell_type": "code",
   "execution_count": 29,
   "metadata": {},
   "outputs": [
    {
     "name": "stdout",
     "output_type": "stream",
     "text": [
      "p-value is  2.4106320415609943e-07\n",
      "We reject the null hypothesis that the true population mean is 98.6 F.\n"
     ]
    }
   ],
   "source": [
    "p_val_t = stats.t.cdf(t, df = dof) * 2\n",
    "print('p-value is ', p_val_t)\n",
    "\n",
    "if p_val_t < 0.05:\n",
    "    print('We reject the null hypothesis that the true population mean is 98.6 F.')\n",
    "else:\n",
    "    print('We fail to reject the null hypothesis that the true population mean is 98.6 F.')"
   ]
  },
  {
   "cell_type": "markdown",
   "metadata": {},
   "source": [
    "Since we have over 30 observations, it makes sense that we come to the same conlcusion whether we use the z or t test, which makes sense."
   ]
  },
  {
   "cell_type": "markdown",
   "metadata": {},
   "source": [
    "# Q4: Draw a small sample of size 10 from the data and repeat both frequentist tests."
   ]
  },
  {
   "cell_type": "code",
   "execution_count": 30,
   "metadata": {},
   "outputs": [
    {
     "name": "stdout",
     "output_type": "stream",
     "text": [
      "     temperature gender  heart_rate\n",
      "55          98.6      F        82.0\n",
      "40          98.4      F        79.0\n",
      "19          99.4      M        70.0\n",
      "31          97.6      F        61.0\n",
      "115         98.0      M        64.0\n",
      "56          98.8      F        70.0\n",
      "69          98.9      M        80.0\n",
      "105         96.7      M        71.0\n",
      "81          98.0      M        67.0\n",
      "26          97.8      F        62.0\n"
     ]
    }
   ],
   "source": [
    "np.random.seed(42)\n",
    "small_sample = df.sample(10)\n",
    "print(small_sample)"
   ]
  },
  {
   "cell_type": "markdown",
   "metadata": {},
   "source": [
    "## <i>* z-statistic method (small_sample)</i>"
   ]
  },
  {
   "cell_type": "code",
   "execution_count": 31,
   "metadata": {},
   "outputs": [
    {
     "name": "stdout",
     "output_type": "stream",
     "text": [
      "z-value =  -1.5606191828511506\n",
      "p-value is  0.11861362990253155\n",
      "We fail to reject the null hypothesis that the true population mean is 98.6 F.\n"
     ]
    }
   ],
   "source": [
    "# Calculate small z-value\n",
    "small_z = (small_sample.temperature.mean() - 98.6) / (small_sample.temperature.std() / (small_sample.temperature.size**0.5))\n",
    "print('z-value = ', small_z)\n",
    "\n",
    "# Find p-value of test\n",
    "p_val_small_z = stats.norm.cdf(small_z) * 2\n",
    "print('p-value is ', p_val_small_z)\n",
    "\n",
    "if p_val_small_z < 0.05:\n",
    "    print('We reject the null hypothesis that the true population mean is 98.6 F.')\n",
    "else:\n",
    "    print('We fail to reject the null hypothesis that the true population mean is 98.6 F.')\n"
   ]
  },
  {
   "cell_type": "markdown",
   "metadata": {},
   "source": [
    "## <i>* t-statistic method (small_sample)</i>"
   ]
  },
  {
   "cell_type": "code",
   "execution_count": 32,
   "metadata": {},
   "outputs": [
    {
     "name": "stdout",
     "output_type": "stream",
     "text": [
      "t-value =  -1.5606191828511506\n",
      "critical t-score is  2.2621571627409915\n",
      "p-value is  0.15304624869561903\n",
      "We fail to reject the null hypothesis that the true population mean is 98.6 F.\n"
     ]
    }
   ],
   "source": [
    "# Calculate small t-value\n",
    "small_t = (small_sample.temperature.mean() - 98.6) / (small_sample.temperature.std() / (small_sample.temperature.size**0.5))\n",
    "print('t-value = ', small_t)\n",
    "\n",
    "# Find critical t-score\n",
    "# Define parameters\n",
    "p = 0.95\n",
    "small_dof = (small_sample.shape[0]) - 1\n",
    "\n",
    "# Find value, 2-tail\n",
    "critical_t = stats.t.ppf((p + (1-p)/2), small_dof)\n",
    "print('critical t-score is ', critical_t)\n",
    "\n",
    "# Find p-value of test\n",
    "p_val_small_t = stats.t.cdf(small_t, df = small_dof) * 2\n",
    "print('p-value is ', p_val_small_t)\n",
    "\n",
    "if p_val_small_t < 0.05:\n",
    "    print('We reject the null hypothesis that the true population mean is 98.6 F.')\n",
    "else:\n",
    "    print('We fail to reject the null hypothesis that the true population mean is 98.6 F.')"
   ]
  },
  {
   "cell_type": "markdown",
   "metadata": {},
   "source": [
    "In this example with only 10 samples, it is not appropriate to use the z-score method because of so few samples present. You can see that we get completely different p-values, and that is because using the t-score method accounts for much more of the unknown variance in the small set of data."
   ]
  },
  {
   "cell_type": "markdown",
   "metadata": {},
   "source": [
    "# Q5: At what temperature should we consider someone's temperature to be \"abnormal\"?"
   ]
  },
  {
   "cell_type": "markdown",
   "metadata": {},
   "source": [
    "Let's assume we consider someone's temperature to be abnormal at the point that they are farther than 3 standard deviations from the mean. If the underlying data follows a Normal distribution as we assumed before, that means that an abnormal temperature would not fall within the 99.7% of observed values according to the 68-95-99.7 rule.\n",
    "<br>\n",
    "<br>\n",
    "Again, we will use the z-score approach since we have 130 observations. Additionally, the formula to calculate margin of error (moe) is z*(std/sqrt(n))."
   ]
  },
  {
   "cell_type": "markdown",
   "metadata": {},
   "source": [
    "## Abnormal Temperature (Bootstrap Method)"
   ]
  },
  {
   "cell_type": "code",
   "execution_count": 33,
   "metadata": {},
   "outputs": [
    {
     "name": "stdout",
     "output_type": "stream",
     "text": [
      "0.1260343410491174\n"
     ]
    }
   ],
   "source": [
    "# Calculate margin of error from prior bootstrap work\n",
    "critical_z = stats.norm.ppf(0.975) # 95% confidence\n",
    "moe_bs = critical_z*df.temperature.std()/(df.temperature.size**0.5)\n",
    "print(moe_bs)"
   ]
  },
  {
   "cell_type": "code",
   "execution_count": 34,
   "metadata": {},
   "outputs": [
    {
     "name": "stdout",
     "output_type": "stream",
     "text": [
      "Confidence Interval from  98.12 F to  98.38 F. Anything outside of this range would be deemed abnormal.\n"
     ]
    }
   ],
   "source": [
    "# Calculate confidence interval for bootstrap method\n",
    "ci_bs_min = df.temperature.mean() - moe_bs\n",
    "ci_bs_max = df.temperature.mean() + moe_bs\n",
    "print('Confidence Interval from ', round(ci_bs_min,2), 'F to ', round(ci_bs_max, 2), 'F. Anything outside of this range would be deemed abnormal.')"
   ]
  }
 ],
 "metadata": {
  "kernelspec": {
   "display_name": "Python 3",
   "language": "python",
   "name": "python3"
  },
  "language_info": {
   "codemirror_mode": {
    "name": "ipython",
    "version": 3
   },
   "file_extension": ".py",
   "mimetype": "text/x-python",
   "name": "python",
   "nbconvert_exporter": "python",
   "pygments_lexer": "ipython3",
   "version": "3.7.1"
  }
 },
 "nbformat": 4,
 "nbformat_minor": 2
}
